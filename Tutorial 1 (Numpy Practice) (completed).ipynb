{
 "cells": [
  {
   "cell_type": "markdown",
   "metadata": {},
   "source": [
    "# Tutorial 1: Numpy Practice"
   ]
  },
  {
   "cell_type": "markdown",
   "metadata": {},
   "source": [
    "## In this tutorial:\n",
    "- Understand basic numpy code\n",
    "- Practice using numpy functions\n",
    "- Simple applications of numpy\n",
    "\n",
    "\n",
    "\n",
    "If you went through the numpy tutorial posted earlier on the course website, you should be familiar with most of the functions used here. Alternatively, just google each function, or look up \"how to ___ using numpy\"."
   ]
  },
  {
   "cell_type": "code",
   "execution_count": 14,
   "metadata": {},
   "outputs": [],
   "source": [
    "import numpy as np"
   ]
  },
  {
   "cell_type": "markdown",
   "metadata": {},
   "source": [
    "## Part 1: What is the output of each line of code?\n",
    "\n",
    "Consider the matrices and vectors defined in the cell below. "
   ]
  },
  {
   "cell_type": "code",
   "execution_count": null,
   "metadata": {},
   "outputs": [],
   "source": []
  },
  {
   "cell_type": "markdown",
   "metadata": {},
   "source": [
    "#### Write down the output of each of the following lines of code, and then run the cells below to check your answers.\n",
    "\n",
    "1. elementwise mult\n",
    "\n",
    "2. argmax on matrix (without axis)\n",
    "\n",
    "3. argmax on matrix (with axis)\n",
    "\n",
    "4. argsort on array\n",
    "\n",
    "5. reverse\n",
    "\n",
    "6. matmul\n",
    "\n",
    "7. filtering\n",
    "\n",
    "8. np.where\n",
    "\n",
    "9. matrix norm\n",
    "\n",
    "10. Transpose"
   ]
  },
  {
   "cell_type": "code",
   "execution_count": null,
   "metadata": {},
   "outputs": [],
   "source": [
    "# 1\n"
   ]
  },
  {
   "cell_type": "code",
   "execution_count": 15,
   "metadata": {},
   "outputs": [],
   "source": [
    "# 2\n"
   ]
  },
  {
   "cell_type": "code",
   "execution_count": null,
   "metadata": {},
   "outputs": [],
   "source": [
    "# 3\n"
   ]
  },
  {
   "cell_type": "code",
   "execution_count": null,
   "metadata": {},
   "outputs": [],
   "source": [
    "# 4\n"
   ]
  },
  {
   "cell_type": "code",
   "execution_count": null,
   "metadata": {},
   "outputs": [],
   "source": [
    "# 5\n"
   ]
  },
  {
   "cell_type": "code",
   "execution_count": null,
   "metadata": {},
   "outputs": [],
   "source": [
    "# 6\n"
   ]
  },
  {
   "cell_type": "code",
   "execution_count": null,
   "metadata": {},
   "outputs": [],
   "source": [
    "# 7\n"
   ]
  },
  {
   "cell_type": "code",
   "execution_count": null,
   "metadata": {},
   "outputs": [],
   "source": [
    "# 8\n"
   ]
  },
  {
   "cell_type": "code",
   "execution_count": null,
   "metadata": {},
   "outputs": [],
   "source": [
    "# 9\n"
   ]
  },
  {
   "cell_type": "code",
   "execution_count": null,
   "metadata": {},
   "outputs": [],
   "source": [
    "# 10\n"
   ]
  },
  {
   "cell_type": "markdown",
   "metadata": {},
   "source": [
    "## Part 2: Simple Matrix Manipulation\n",
    "\n",
    "1. Construct a random 3 × 4 matrix. Call it A. The rows are numbered 0,1,2, and the columns are numbered 0,1,2,3.\n",
    "2. Construct a random 4-dimensional row vector (that is, a 1 × 4 matrix). Call it x.\n",
    "3. Reshape A into a 6 × 2 matrix. Call the result B. A itself does not change.\n",
    "4. Add vector x to all the rows of matrix A. Call the resulting matrix C. C has the same dimensions as A.\n",
    "5. Reshape x so that is a 4-dimensional vector instead of a 1 × 4 matrix. That is,change its shape from (1,4) to (4). Call the resulting vector y. (Note that y is\n",
    "6. neither a column vector nor a row vector. We say it has rank 1.)\n",
    "7. Change row 0 of matrix A to have the same value as vector y.\n",
    "8. Subtract vector y from row 2 of matrix A and assign the result to row 1 of matrix A. (Only row 1 changes.)\n",
    "9. Print the first three columns of matrix A as a single matrix.\n",
    "10. Print rows 0 and 2 of matrix A as a single matrix.\n",
    "11. Compute the minimum of all the elements in matrix A. The result is a single real number"
   ]
  },
  {
   "cell_type": "code",
   "execution_count": 8,
   "metadata": {},
   "outputs": [
    {
     "name": "stdout",
     "output_type": "stream",
     "text": [
      "[[0.39933059 0.36975363 0.51257679 0.3792366 ]\n",
      " [0.53851981 0.92062847 0.98840446 0.15887481]\n",
      " [0.36028308 0.13107891 0.93119962 0.93692617]]\n"
     ]
    }
   ],
   "source": [
    "# 1\n",
    "A = np.random.random((3,4))\n",
    "print(A)"
   ]
  },
  {
   "cell_type": "code",
   "execution_count": 7,
   "metadata": {},
   "outputs": [
    {
     "name": "stdout",
     "output_type": "stream",
     "text": [
      "[0.685831   0.46853394 0.38147114 0.56137831]\n"
     ]
    }
   ],
   "source": [
    "# 2\n",
    "x = np.random.random(4)\n",
    "print(x)"
   ]
  },
  {
   "cell_type": "code",
   "execution_count": 13,
   "metadata": {},
   "outputs": [
    {
     "name": "stdout",
     "output_type": "stream",
     "text": [
      "B:\n",
      " [[0.39933059 0.36975363]\n",
      " [0.51257679 0.3792366 ]\n",
      " [0.53851981 0.92062847]\n",
      " [0.98840446 0.15887481]\n",
      " [0.36028308 0.13107891]\n",
      " [0.93119962 0.93692617]]\n",
      "\n",
      "A:\n",
      " [[0.39933059 0.36975363 0.51257679 0.3792366 ]\n",
      " [0.53851981 0.92062847 0.98840446 0.15887481]\n",
      " [0.36028308 0.13107891 0.93119962 0.93692617]]\n"
     ]
    }
   ],
   "source": [
    "# 3\n",
    "B = A.reshape((6,2))\n",
    "\n",
    "print(\"B:\\n\", B)\n",
    "print(\"\\nA:\\n\", A)"
   ]
  },
  {
   "cell_type": "code",
   "execution_count": 16,
   "metadata": {},
   "outputs": [],
   "source": [
    "# 4\n"
   ]
  },
  {
   "cell_type": "code",
   "execution_count": null,
   "metadata": {},
   "outputs": [],
   "source": [
    "# 5\n"
   ]
  },
  {
   "cell_type": "code",
   "execution_count": null,
   "metadata": {},
   "outputs": [],
   "source": [
    "# 6\n"
   ]
  },
  {
   "cell_type": "code",
   "execution_count": null,
   "metadata": {},
   "outputs": [],
   "source": [
    "# 7\n"
   ]
  },
  {
   "cell_type": "code",
   "execution_count": null,
   "metadata": {},
   "outputs": [],
   "source": [
    "# 8\n"
   ]
  },
  {
   "cell_type": "code",
   "execution_count": null,
   "metadata": {},
   "outputs": [],
   "source": [
    "# 9\n"
   ]
  },
  {
   "cell_type": "code",
   "execution_count": null,
   "metadata": {},
   "outputs": [],
   "source": [
    "# 10\n"
   ]
  },
  {
   "cell_type": "code",
   "execution_count": null,
   "metadata": {},
   "outputs": [],
   "source": [
    "# 11\n"
   ]
  },
  {
   "cell_type": "markdown",
   "metadata": {},
   "source": [
    "## Part 3: Applications\n",
    "\n",
    "1. Vectorization (and measuring runtime)\n",
    "2. Solving linear systems"
   ]
  },
  {
   "cell_type": "markdown",
   "metadata": {},
   "source": [
    "### Vectorization\n",
    "\n",
    "Note that keeping track of how long an iterative process has run can be helpful for predicting how much time is left. For example, print out the ellapsed timeevery 1000 iterations. Or run code on a smaller subset of yyour dataset to see how long it takes, and estimate how long it would take to run on the full dataset (is it linear runtime? quadratic? etc.)"
   ]
  },
  {
   "cell_type": "code",
   "execution_count": null,
   "metadata": {},
   "outputs": [],
   "source": []
  },
  {
   "cell_type": "markdown",
   "metadata": {},
   "source": [
    "### Sovling linear systems\n",
    "\n",
    "Later in the course you will probably write this function from scratch, or atleast understand how to. You will also learn how to solve overdetermined systems (where there is no matrix $A$ such that $A\\cdot x = b$ for all values of $x$)"
   ]
  },
  {
   "cell_type": "code",
   "execution_count": 17,
   "metadata": {},
   "outputs": [],
   "source": [
    "import numpy.linalg as la"
   ]
  },
  {
   "cell_type": "code",
   "execution_count": null,
   "metadata": {},
   "outputs": [],
   "source": []
  }
 ],
 "metadata": {
  "kernelspec": {
   "display_name": "Python 3",
   "language": "python",
   "name": "python3"
  },
  "language_info": {
   "codemirror_mode": {
    "name": "ipython",
    "version": 3
   },
   "file_extension": ".py",
   "mimetype": "text/x-python",
   "name": "python",
   "nbconvert_exporter": "python",
   "pygments_lexer": "ipython3",
   "version": "3.7.6"
  }
 },
 "nbformat": 4,
 "nbformat_minor": 4
}
