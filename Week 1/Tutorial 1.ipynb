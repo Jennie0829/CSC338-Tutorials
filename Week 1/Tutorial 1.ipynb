{
 "cells": [
  {
   "cell_type": "markdown",
   "metadata": {},
   "source": [
    "# Tutorial 1: Numpy Practice"
   ]
  },
  {
   "cell_type": "markdown",
   "metadata": {},
   "source": [
    "## In this tutorial:\n",
    "- Understand basic numpy code\n",
    "- Practice using numpy matrices and vectors\n",
    "- Vectorization and plotting with matplotlib\n",
    "\n",
    "\n",
    "\n",
    "If you went through the numpy tutorial posted earlier on the course website, you should be familiar with most of the functions used here. Alternatively, just google each function, or look up \"how to ___ using numpy\"."
   ]
  },
  {
   "cell_type": "code",
   "execution_count": 1,
   "metadata": {},
   "outputs": [],
   "source": [
    "import numpy as np"
   ]
  },
  {
   "cell_type": "markdown",
   "metadata": {},
   "source": [
    "## Part 1: What is the output of each line of code?\n",
    "\n",
    "Consider the matrices and vectors defined in the cell below. "
   ]
  },
  {
   "cell_type": "code",
   "execution_count": 2,
   "metadata": {},
   "outputs": [],
   "source": [
    "M1 = np.ones((2,2))*2\n",
    "\n",
    "M2 = np.array([[1, 1, 1],\n",
    "               [2, 2, 2],\n",
    "               [3, 3, 3]])\n",
    "\n",
    "M3 = np.arange(1, 10, 1).reshape((3,3))\n",
    "\n",
    "v1 = np.array([5, 2, 4, 1])\n",
    "\n",
    "v2 = np.linspace(2, 8, 4)"
   ]
  },
  {
   "cell_type": "markdown",
   "metadata": {},
   "source": [
    "#### Write down the output of each of the following lines of code, and then run it in the cell below to check your answers.\n",
    "If you don't recognize the function, look up the documentation.\n",
    "\n",
    "1. M1*M1\n",
    "\n",
    "\n",
    "2. np.argmax(M3)\n",
    "\n",
    "\n",
    "3. np.max(M3, axis=1)\n",
    "\n",
    "\n",
    "4. np.argsort(v1)\n",
    "\n",
    "\n",
    "5. M2[: : -1]\n",
    "\n",
    "\n",
    "6. np.matmul(M1, M1)\n",
    "\n",
    "\n",
    "7. v2[v1 < 3]\n",
    "\n",
    "\n",
    "8. np.where(M2==3, M3, 0)\n",
    "\n",
    "\n",
    "9. np.linalg.norm(v1)\n",
    "\n",
    "\n",
    "10. M2.T\n",
    "\n",
    "\n",
    "11. M2.shape"
   ]
  },
  {
   "cell_type": "code",
   "execution_count": null,
   "metadata": {},
   "outputs": [],
   "source": []
  },
  {
   "cell_type": "markdown",
   "metadata": {},
   "source": [
    "## Part 2: Simple Matrix Manipulation\n",
    "\n",
    "Write one line of code for each of the following:\n",
    "\n",
    "1. Construct a random 3 × 4 matrix. Call it A. The rows are numbered 0,1,2, and the columns are numbered 0,1,2,3.\n",
    "2. Construct a random 4-dimensional vector (that is, its shape is (4)). Call it x.\n",
    "3. Reshape A into a 6 × 2 matrix. Call the result B. A itself does not change.\n",
    "4. Add vector x to all the rows of matrix A. Call the resulting matrix C. C has the same dimensions as A.\n",
    "5. Change row 0 of matrix A to have the same value as vector x.\n",
    "6. Subtract vector x from row 2 of matrix A and assign the result to row 1 of matrix A. (Only row 1 changes.)\n",
    "7. Print the first three columns of matrix A as a single matrix.\n",
    "8. Print rows 0 and 2 of matrix A as a single matrix.\n",
    "9. Compute the minimum of all the elements in matrix A. The result is a single real number"
   ]
  },
  {
   "cell_type": "code",
   "execution_count": 3,
   "metadata": {},
   "outputs": [],
   "source": [
    "# 1\n"
   ]
  },
  {
   "cell_type": "code",
   "execution_count": 4,
   "metadata": {},
   "outputs": [],
   "source": [
    "# 2\n"
   ]
  },
  {
   "cell_type": "code",
   "execution_count": 5,
   "metadata": {},
   "outputs": [],
   "source": [
    "# 3\n"
   ]
  },
  {
   "cell_type": "code",
   "execution_count": 6,
   "metadata": {},
   "outputs": [],
   "source": [
    "# 4\n"
   ]
  },
  {
   "cell_type": "code",
   "execution_count": 7,
   "metadata": {},
   "outputs": [],
   "source": [
    "# 5\n"
   ]
  },
  {
   "cell_type": "code",
   "execution_count": 8,
   "metadata": {},
   "outputs": [],
   "source": [
    "# 6\n"
   ]
  },
  {
   "cell_type": "code",
   "execution_count": 9,
   "metadata": {},
   "outputs": [],
   "source": [
    "# 7\n"
   ]
  },
  {
   "cell_type": "code",
   "execution_count": 10,
   "metadata": {},
   "outputs": [],
   "source": [
    "# 8\n"
   ]
  },
  {
   "cell_type": "code",
   "execution_count": 11,
   "metadata": {},
   "outputs": [],
   "source": [
    "# 9\n"
   ]
  },
  {
   "cell_type": "markdown",
   "metadata": {},
   "source": [
    "## Part 3: Vectorization and plotting\n",
    "\n",
    "1. Plot $sin(\\pi x)$ on the interval [0,2], using 50 evenly spaced points. Plot it in green. Do the same for $x^2$, but plot it using red dots. Title the plot and axes, and provide a legend.\n",
    "\n",
    "\n",
    "2. Write a function fun(x) that returns x + 1. Now generate a random matrix of size (10 x 10) and compare the time it takes to add 1 to every element in the matrix using nested for loops vs. using vectorization (ie. using fun(x)). Use the time.time() function to keep track of the time. Repeat this process for matrices of size (100 x 100), (1000 x 1000), and (5000 x 5000). Create a plot of how long each method takes for each matrix size.\n",
    "\n",
    "\n",
    "Note that keeping track of how long an iterative process has run can be helpful for predicting how much time is left. For example, print out the ellapsed time every 1000 iterations. Or run code on a smaller subset of your dataset to see how long it takes, and estimate how long it would take to run on the full dataset (is it linear runtime? quadratic? etc.)"
   ]
  },
  {
   "cell_type": "code",
   "execution_count": 12,
   "metadata": {},
   "outputs": [],
   "source": [
    "import matplotlib.pyplot as plt"
   ]
  },
  {
   "cell_type": "code",
   "execution_count": 13,
   "metadata": {},
   "outputs": [],
   "source": [
    "# 1\n",
    "\n",
    "# look up documentation for plotting if you have never used pyplot"
   ]
  },
  {
   "cell_type": "code",
   "execution_count": 14,
   "metadata": {},
   "outputs": [
    {
     "data": {
      "image/png": "[encoded data removed]",
      "text/plain": [
       "<Figure size 432x288 with 1 Axes>"
      ]
     },
     "metadata": {
      "needs_background": "light"
     },
     "output_type": "display_data"
    }
   ],
   "source": [
    "# 2\n",
    "\n",
    "# finish the code below\n",
    "\n",
    "import time\n",
    "\n",
    "def fun(x):\n",
    "    return x+1\n",
    "\n",
    "size = [10, 100, 1000, 5000]\n",
    "times_nested = []\n",
    "times_vectorized = []\n",
    "\n",
    "for n in size:\n",
    "    \n",
    "    # 1) create matrix here\n",
    "    \n",
    "    \n",
    "    \n",
    "    # method 1: nested for loops\n",
    "    start_time = time.time()\n",
    "    # 2) your code here\n",
    "    runtime = time.time() - start_time\n",
    "    times_nested.append(runtime)\n",
    "    \n",
    "    \n",
    "    \n",
    "    \n",
    "    # method 2: vectorization\n",
    "    start_time = time.time()\n",
    "    # 3) your code here\n",
    "    runtime = time.time() - start_time\n",
    "    times_vectorized.append(runtime)\n",
    "\n",
    "    \n",
    "# plotting runtimes\n",
    "plt.plot(size, times_vectorized, 'bo', label=\"vectorization\") \n",
    "plt.plot(size, times_nested, 'rx', label=\"nested loops\")    \n",
    "plt.xlabel(\"Matrix size\")\n",
    "plt.ylabel(\"Runtime (seconds)\")\n",
    "plt.legend(loc=\"upper left\")\n",
    "plt.show()"
   ]
  },
  {
   "cell_type": "code",
   "execution_count": 15,
   "metadata": {},
   "outputs": [
    {
     "name": "stdout",
     "output_type": "stream",
     "text": [
      "[0.0, 0.0, 0.0, 0.0]\n"
     ]
    }
   ],
   "source": [
    "print(times_vectorized)"
   ]
  },
  {
   "cell_type": "markdown",
   "metadata": {},
   "source": [
    "Moral of the story: avoid using loops (especially nested ones) whenever possible"
   ]
  }
 ],
 "metadata": {
  "kernelspec": {
   "display_name": "Python 3",
   "language": "python",
   "name": "python3"
  },
  "language_info": {
   "codemirror_mode": {
    "name": "ipython",
    "version": 3
   },
   "file_extension": ".py",
   "mimetype": "text/x-python",
   "name": "python",
   "nbconvert_exporter": "python",
   "pygments_lexer": "ipython3",
   "version": "3.7.6"
  }
 },
 "nbformat": 4,
 "nbformat_minor": 4
}
